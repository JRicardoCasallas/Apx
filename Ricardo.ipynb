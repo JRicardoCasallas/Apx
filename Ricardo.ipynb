{
  "nbformat": 4,
  "nbformat_minor": 0,
  "metadata": {
    "colab": {
      "provenance": [],
      "authorship_tag": "ABX9TyNly/i8XBQas+g1yk0Z5qEY",
      "include_colab_link": true
    },
    "kernelspec": {
      "name": "python3",
      "display_name": "Python 3"
    },
    "language_info": {
      "name": "python"
    }
  },
  "cells": [
    {
      "cell_type": "markdown",
      "metadata": {
        "id": "view-in-github",
        "colab_type": "text"
      },
      "source": [
        "<a href=\"https://colab.research.google.com/github/JRicardoCasallas/Apx/blob/main/Ricardo.ipynb\" target=\"_parent\"><img src=\"https://colab.research.google.com/assets/colab-badge.svg\" alt=\"Open In Colab\"/></a>"
      ]
    },
    {
      "cell_type": "code",
      "source": [
        "a = 5\n",
        "b = 6\n",
        "suma = a + b\n",
        "print(\"la suma es:\", suma)\n",
        "\n",
        "if suma > 12:\n",
        "    print(\"la suma es mayor a 10\")\n",
        "else:\n",
        "    print(\"la suma es menor a 10\")\n"
      ],
      "metadata": {
        "colab": {
          "base_uri": "https://localhost:8080/"
        },
        "id": "SkbR3gz5ijD2",
        "outputId": "819d7cc9-47d3-4c29-9ef1-cd7900b94107"
      },
      "execution_count": null,
      "outputs": [
        {
          "output_type": "stream",
          "name": "stdout",
          "text": [
            "la suma es: 11\n",
            "la suma es menor a 10\n"
          ]
        }
      ]
    }
  ]
}